{
 "cells": [
  {
   "cell_type": "markdown",
   "metadata": {},
   "source": [
    "## \"Симуляция Монте-Карло\""
   ]
  },
  {
   "cell_type": "code",
   "execution_count": 5,
   "metadata": {},
   "outputs": [],
   "source": [
    "# Импорт библиотек\n",
    "\n",
    "import pandahouse\n",
    "import pandas as pd\n",
    "import numpy as np\n",
    "import seaborn as sns\n",
    "from scipy import stats\n",
    "from scipy.stats import norm, ttest_ind\n",
    "from tqdm import tqdm  # для отслеживания прогресса"
   ]
  },
  {
   "cell_type": "code",
   "execution_count": 2,
   "metadata": {},
   "outputs": [],
   "source": [
    "# Подключение к ClickHouse\n",
    "\n",
    "connection = {\n",
    "    'host': 'https://clickhouse.lab.karpov.courses',\n",
    "    'password': '*****',\n",
    "    'user': 'student',\n",
    "    'database': 'simulator_20250820'\n",
    "}"
   ]
  },
  {
   "cell_type": "code",
   "execution_count": 3,
   "metadata": {},
   "outputs": [
    {
     "data": {
      "text/html": [
       "<div>\n",
       "<style scoped>\n",
       "    .dataframe tbody tr th:only-of-type {\n",
       "        vertical-align: middle;\n",
       "    }\n",
       "\n",
       "    .dataframe tbody tr th {\n",
       "        vertical-align: top;\n",
       "    }\n",
       "\n",
       "    .dataframe thead th {\n",
       "        text-align: right;\n",
       "    }\n",
       "</style>\n",
       "<table border=\"1\" class=\"dataframe\">\n",
       "  <thead>\n",
       "    <tr style=\"text-align: right;\">\n",
       "      <th></th>\n",
       "      <th>views</th>\n",
       "      <th>users</th>\n",
       "      <th>p</th>\n",
       "    </tr>\n",
       "  </thead>\n",
       "  <tbody>\n",
       "    <tr>\n",
       "      <th>15</th>\n",
       "      <td>16</td>\n",
       "      <td>545</td>\n",
       "      <td>0.012977</td>\n",
       "    </tr>\n",
       "    <tr>\n",
       "      <th>14</th>\n",
       "      <td>15</td>\n",
       "      <td>537</td>\n",
       "      <td>0.012787</td>\n",
       "    </tr>\n",
       "    <tr>\n",
       "      <th>13</th>\n",
       "      <td>14</td>\n",
       "      <td>500</td>\n",
       "      <td>0.011906</td>\n",
       "    </tr>\n",
       "    <tr>\n",
       "      <th>34</th>\n",
       "      <td>35</td>\n",
       "      <td>485</td>\n",
       "      <td>0.011548</td>\n",
       "    </tr>\n",
       "    <tr>\n",
       "      <th>29</th>\n",
       "      <td>30</td>\n",
       "      <td>469</td>\n",
       "      <td>0.011167</td>\n",
       "    </tr>\n",
       "    <tr>\n",
       "      <th>...</th>\n",
       "      <td>...</td>\n",
       "      <td>...</td>\n",
       "      <td>...</td>\n",
       "    </tr>\n",
       "    <tr>\n",
       "      <th>280</th>\n",
       "      <td>287</td>\n",
       "      <td>1</td>\n",
       "      <td>0.000024</td>\n",
       "    </tr>\n",
       "    <tr>\n",
       "      <th>278</th>\n",
       "      <td>285</td>\n",
       "      <td>1</td>\n",
       "      <td>0.000024</td>\n",
       "    </tr>\n",
       "    <tr>\n",
       "      <th>276</th>\n",
       "      <td>280</td>\n",
       "      <td>1</td>\n",
       "      <td>0.000024</td>\n",
       "    </tr>\n",
       "    <tr>\n",
       "      <th>1</th>\n",
       "      <td>2</td>\n",
       "      <td>1</td>\n",
       "      <td>0.000024</td>\n",
       "    </tr>\n",
       "    <tr>\n",
       "      <th>300</th>\n",
       "      <td>370</td>\n",
       "      <td>1</td>\n",
       "      <td>0.000024</td>\n",
       "    </tr>\n",
       "  </tbody>\n",
       "</table>\n",
       "<p>301 rows × 3 columns</p>\n",
       "</div>"
      ],
      "text/plain": [
       "     views  users         p\n",
       "15      16    545  0.012977\n",
       "14      15    537  0.012787\n",
       "13      14    500  0.011906\n",
       "34      35    485  0.011548\n",
       "29      30    469  0.011167\n",
       "..     ...    ...       ...\n",
       "280    287      1  0.000024\n",
       "278    285      1  0.000024\n",
       "276    280      1  0.000024\n",
       "1        2      1  0.000024\n",
       "300    370      1  0.000024\n",
       "\n",
       "[301 rows x 3 columns]"
      ]
     },
     "execution_count": 3,
     "metadata": {},
     "output_type": "execute_result"
    }
   ],
   "source": [
    "# Достанем распределение views за неделю\n",
    "\n",
    "q = \"\"\"\n",
    "select views, count(user_id) as users\n",
    "from (select  \n",
    "    user_id,\n",
    "    sum(action = 'view') as views\n",
    "FROM simulator_20250820.feed_actions \n",
    "where toDate(time) between '2025-07-26' and '2025-08-01'\n",
    "group by user_id\n",
    ")\n",
    "group by views\n",
    "order by views\n",
    "\"\"\"\n",
    "\n",
    "\n",
    "views_distribution = pandahouse.read_clickhouse(q, connection=connection)\n",
    "views_distribution['p'] = views_distribution['users']/views_distribution.users.sum()\n",
    "views_distribution.sort_values(by = 'p', ascending = False)"
   ]
  },
  {
   "cell_type": "code",
   "execution_count": 6,
   "metadata": {},
   "outputs": [
    {
     "data": {
      "text/plain": [
       "<Axes: ylabel='Count'>"
      ]
     },
     "execution_count": 6,
     "metadata": {},
     "output_type": "execute_result"
    },
    {
     "data": {
      "image/png": "[encoded data removed]",
      "text/plain": [
       "<Figure size 432x288 with 1 Axes>"
      ]
     },
     "metadata": {
      "needs_background": "light"
     },
     "output_type": "display_data"
    }
   ],
   "source": [
    "# построим гистограмму просмотров\n",
    "\n",
    "views_distr = stats.rv_discrete(name='views_distr', \n",
    "                                values=(views_distribution['views'], \n",
    "                                        views_distribution['p']))\n",
    "sns.histplot(views_distr.rvs(size=2000))"
   ]
  },
  {
   "cell_type": "markdown",
   "metadata": {},
   "source": [
    "Видна явная асимметрия - и если присмотреться, то можно даже заметить небольшую двухгорбость."
   ]
  },
  {
   "cell_type": "code",
   "execution_count": 7,
   "metadata": {},
   "outputs": [
    {
     "data": {
      "text/html": [
       "<div>\n",
       "<style scoped>\n",
       "    .dataframe tbody tr th:only-of-type {\n",
       "        vertical-align: middle;\n",
       "    }\n",
       "\n",
       "    .dataframe tbody tr th {\n",
       "        vertical-align: top;\n",
       "    }\n",
       "\n",
       "    .dataframe thead th {\n",
       "        text-align: right;\n",
       "    }\n",
       "</style>\n",
       "<table border=\"1\" class=\"dataframe\">\n",
       "  <thead>\n",
       "    <tr style=\"text-align: right;\">\n",
       "      <th></th>\n",
       "      <th>ctr</th>\n",
       "      <th>users</th>\n",
       "      <th>p</th>\n",
       "    </tr>\n",
       "  </thead>\n",
       "  <tbody>\n",
       "    <tr>\n",
       "      <th>17</th>\n",
       "      <td>0.20</td>\n",
       "      <td>4993</td>\n",
       "      <td>0.058658</td>\n",
       "    </tr>\n",
       "    <tr>\n",
       "      <th>33</th>\n",
       "      <td>0.16</td>\n",
       "      <td>4233</td>\n",
       "      <td>0.049729</td>\n",
       "    </tr>\n",
       "    <tr>\n",
       "      <th>50</th>\n",
       "      <td>0.25</td>\n",
       "      <td>4216</td>\n",
       "      <td>0.049529</td>\n",
       "    </tr>\n",
       "    <tr>\n",
       "      <th>6</th>\n",
       "      <td>0.18</td>\n",
       "      <td>4213</td>\n",
       "      <td>0.049494</td>\n",
       "    </tr>\n",
       "    <tr>\n",
       "      <th>72</th>\n",
       "      <td>0.21</td>\n",
       "      <td>3957</td>\n",
       "      <td>0.046487</td>\n",
       "    </tr>\n",
       "    <tr>\n",
       "      <th>...</th>\n",
       "      <td>...</td>\n",
       "      <td>...</td>\n",
       "      <td>...</td>\n",
       "    </tr>\n",
       "    <tr>\n",
       "      <th>12</th>\n",
       "      <td>0.81</td>\n",
       "      <td>2</td>\n",
       "      <td>0.000023</td>\n",
       "    </tr>\n",
       "    <tr>\n",
       "      <th>73</th>\n",
       "      <td>0.83</td>\n",
       "      <td>1</td>\n",
       "      <td>0.000012</td>\n",
       "    </tr>\n",
       "    <tr>\n",
       "      <th>20</th>\n",
       "      <td>0.73</td>\n",
       "      <td>1</td>\n",
       "      <td>0.000012</td>\n",
       "    </tr>\n",
       "    <tr>\n",
       "      <th>51</th>\n",
       "      <td>1.00</td>\n",
       "      <td>1</td>\n",
       "      <td>0.000012</td>\n",
       "    </tr>\n",
       "    <tr>\n",
       "      <th>39</th>\n",
       "      <td>0.88</td>\n",
       "      <td>1</td>\n",
       "      <td>0.000012</td>\n",
       "    </tr>\n",
       "  </tbody>\n",
       "</table>\n",
       "<p>80 rows × 3 columns</p>\n",
       "</div>"
      ],
      "text/plain": [
       "     ctr  users         p\n",
       "17  0.20   4993  0.058658\n",
       "33  0.16   4233  0.049729\n",
       "50  0.25   4216  0.049529\n",
       "6   0.18   4213  0.049494\n",
       "72  0.21   3957  0.046487\n",
       "..   ...    ...       ...\n",
       "12  0.81      2  0.000023\n",
       "73  0.83      1  0.000012\n",
       "20  0.73      1  0.000012\n",
       "51  1.00      1  0.000012\n",
       "39  0.88      1  0.000012\n",
       "\n",
       "[80 rows x 3 columns]"
      ]
     },
     "execution_count": 7,
     "metadata": {},
     "output_type": "execute_result"
    }
   ],
   "source": [
    "# Достанем распределение CTR за неделю\n",
    "\n",
    "q = \"\"\"\n",
    "select \n",
    "   floor(ctr, 2) as ctr, count() as users\n",
    "from (select toDate(time) as dt, \n",
    "    user_id,\n",
    "    sum(action = 'like')/sum(action = 'view') as ctr\n",
    "from simulator_20250820.feed_actions\n",
    "where dt between '2025-07-26' and '2025-08-01'\n",
    "group by dt, user_id\n",
    ")\n",
    "group by ctr\n",
    "\"\"\"\n",
    "\n",
    "\n",
    "ctr_distribution = pandahouse.read_clickhouse(q, connection=connection)\n",
    "ctr_distribution['p'] = ctr_distribution['users']/ctr_distribution.users.sum()\n",
    "ctr_distribution.sort_values(by = 'p', ascending = False)"
   ]
  },
  {
   "cell_type": "code",
   "execution_count": 8,
   "metadata": {},
   "outputs": [
    {
     "name": "stdout",
     "output_type": "stream",
     "text": [
      "Количество пользователей: 41997\n",
      "Размер выборки: 20998\n"
     ]
    }
   ],
   "source": [
    "# Посчитаем количество пользователей в эксперименте\n",
    "\n",
    "total_users = views_distribution.users.sum()\n",
    "group_size = total_users // 2  # Размер каждой группы (50/50)\n",
    "\n",
    "print(f\"Количество пользователей: {total_users}\")\n",
    "print(f\"Размер выборки: {group_size}\")"
   ]
  },
  {
   "cell_type": "code",
   "execution_count": 9,
   "metadata": {},
   "outputs": [],
   "source": [
    "# Посмотрим число пользователей за неделю (время проведения AA-теста)\n",
    "\n",
    "q = \"\"\"\n",
    "SELECT  \n",
    "    count(distinct(user_id)) \n",
    "FROM simulator_20250820.feed_actions\n",
    "WHERE toDate(time) between '2025-07-26' and '2025-08-01'\n",
    "\"\"\"\n",
    "\n",
    "num_users = pandahouse.read_clickhouse(q, connection=connection)"
   ]
  },
  {
   "cell_type": "code",
   "execution_count": 10,
   "metadata": {},
   "outputs": [
    {
     "data": {
      "text/html": [
       "<div>\n",
       "<style scoped>\n",
       "    .dataframe tbody tr th:only-of-type {\n",
       "        vertical-align: middle;\n",
       "    }\n",
       "\n",
       "    .dataframe tbody tr th {\n",
       "        vertical-align: top;\n",
       "    }\n",
       "\n",
       "    .dataframe thead th {\n",
       "        text-align: right;\n",
       "    }\n",
       "</style>\n",
       "<table border=\"1\" class=\"dataframe\">\n",
       "  <thead>\n",
       "    <tr style=\"text-align: right;\">\n",
       "      <th></th>\n",
       "      <th>uniqExact(user_id)</th>\n",
       "    </tr>\n",
       "  </thead>\n",
       "  <tbody>\n",
       "    <tr>\n",
       "      <th>0</th>\n",
       "      <td>41997</td>\n",
       "    </tr>\n",
       "  </tbody>\n",
       "</table>\n",
       "</div>"
      ],
      "text/plain": [
       "   uniqExact(user_id)\n",
       "0               41997"
      ]
     },
     "execution_count": 10,
     "metadata": {},
     "output_type": "execute_result"
    }
   ],
   "source": [
    "num_users"
   ]
  },
  {
   "cell_type": "code",
   "execution_count": 11,
   "metadata": {},
   "outputs": [],
   "source": [
    "# Подготовка массивов для сэмплирования\n",
    "views_values = views_distribution['views'].values\n",
    "views_probs = views_distribution['p'].values\n",
    "\n",
    "ctr_values = ctr_distribution['ctr'].values\n",
    "ctr_probs = ctr_distribution['p'].values"
   ]
  },
  {
   "cell_type": "code",
   "execution_count": 12,
   "metadata": {},
   "outputs": [],
   "source": [
    "# Создаём генератор псевдослучайных чисел\n",
    "\n",
    "rng = np.random.default_rng()"
   ]
  },
  {
   "cell_type": "markdown",
   "metadata": {},
   "source": [
    "### 1\n",
    "К нам пришли наши коллеги из ML-отдела и рассказали, что планируют выкатывать новый алгоритм, рекомендующий нашим пользователям интересные посты. После обсуждений того, как он это делает, вы пришли к следующему пониманию:  \n",
    "- алгоритм добавляет пользователям 1-2 просмотра;  \n",
    "- вероятность того, что он сработает, составляет 90%;  \n",
    "- если у пользователя меньше 50 просмотров, то алгоритм не сработает.  \n",
    "\n",
    "Предполагается, что увеличение числа просмотров приведёт и к увеличению лайков на пользователя.  \n",
    "Сможем ли мы обнаружить различия в среднем количестве лайков на пользователя?  \n",
    "Чтобы ответить на этот вопрос, давайте проведём симуляцию Монте-Карло."
   ]
  },
  {
   "cell_type": "code",
   "execution_count": 13,
   "metadata": {},
   "outputs": [
    {
     "name": "stderr",
     "output_type": "stream",
     "text": [
      "100%|██████████| 20000/20000 [05:13<00:00, 63.75it/s]\n"
     ]
    }
   ],
   "source": [
    "# Симуляция Монте-Карло\n",
    "\n",
    "n_simulations = 20000  # количество симуляций\n",
    "group_size = 20998  # размер выборки\n",
    "\n",
    "p_values_1 = []   # результаты тестов\n",
    "\n",
    "for _ in tqdm(range(n_simulations)):\n",
    "    # Симуляция просмотров\n",
    "    group_A_views = rng.choice(views_values, size=group_size, replace=True, p=views_probs).astype(np.int64)\n",
    "    group_B_views = rng.choice(views_values, size=group_size, replace=True, p=views_probs).astype(np.int64)\n",
    "    group_B_views_after = (\n",
    "        group_B_views\n",
    "        + (rng.binomial(n=1, p=0.9, size=group_size)           # вероятность того, что он сработает, составляет 90%\n",
    "           * (1 + rng.binomial(n=1, p=0.5, size=group_size))   # алгоритм добавляет пользователям 1-2 просмотра\n",
    "           *  (group_B_views >= 50))                           # если у пользователя меньше 50 просмотров, то алгоритм не сработает\n",
    "    )\n",
    "    # Симуляция CTR\n",
    "    group_A_ctr = rng.choice(ctr_values, size=group_size, replace=True, p=ctr_probs)\n",
    "    group_B_ctr = rng.choice(ctr_values, size=group_size, replace=True, p=ctr_probs)\n",
    "\n",
    "    # Симуляция лайков как биномиальное распределение на основе просмотров и CTR\n",
    "    group_A_likes = rng.binomial(n=group_A_views, p=group_A_ctr)\n",
    "    group_B_likes = rng.binomial(n=group_B_views_after, p=group_B_ctr)\n",
    "\n",
    "    p_value = stats.ttest_ind(group_A_likes, group_B_likes, equal_var=False).pvalue\n",
    "    p_values_1.append(p_value)"
   ]
  },
  {
   "cell_type": "code",
   "execution_count": 14,
   "metadata": {},
   "outputs": [
    {
     "name": "stdout",
     "output_type": "stream",
     "text": [
      "Мощность теста: 25.9\n"
     ]
    }
   ],
   "source": [
    "# Расчет мощности теста\n",
    "# уровень значимости alpha = 0.05\n",
    "\n",
    "power_1 = round(np.mean(np.array(p_values_1) < 0.05) * 100, 1)\n",
    "print(f\"Мощность теста: {power_1}\")"
   ]
  },
  {
   "cell_type": "markdown",
   "metadata": {},
   "source": [
    "Мощность очень маленькая."
   ]
  },
  {
   "cell_type": "markdown",
   "metadata": {},
   "source": [
    "### 2\n",
    "К нам снова пришли коллеги из ML-отдела с радостной новостью: они улучшили качество алгоритма. Теперь он срабатывает на пользователях с числом просмотров от 30 и выше. Подкорректируем симуляцию."
   ]
  },
  {
   "cell_type": "code",
   "execution_count": 15,
   "metadata": {},
   "outputs": [
    {
     "name": "stderr",
     "output_type": "stream",
     "text": [
      "100%|██████████| 20000/20000 [05:14<00:00, 63.59it/s]\n"
     ]
    }
   ],
   "source": [
    "# Симуляция Монте-Карло на пользователях с числом просмотров от 30 и выше\n",
    "\n",
    "n_simulations = 20000  # количество симуляций\n",
    "group_size = 20998  # размер выборки\n",
    "\n",
    "p_values_2 = []   # результаты тестов\n",
    "\n",
    "for _ in tqdm(range(n_simulations)):\n",
    "    # Симуляция просмотров\n",
    "    group_A_views = rng.choice(views_values, size=group_size, replace=True, p=views_probs).astype(np.int64)\n",
    "    group_B_views = rng.choice(views_values, size=group_size, replace=True, p=views_probs).astype(np.int64)\n",
    "    group_B_views_after = (\n",
    "        group_B_views\n",
    "        + (rng.binomial(n=1, p=0.9, size=group_size)           # вероятность того, что он сработает, составляет 90%\n",
    "           * (1 + rng.binomial(n=1, p=0.5, size=group_size))   # алгоритм добавляет пользователям 1-2 просмотра\n",
    "           *  (group_B_views >= 30))                           # если у пользователя меньше 30 просмотров, то алгоритм не сработает\n",
    "    )\n",
    "    # Симуляция CTR\n",
    "    group_A_ctr = rng.choice(ctr_values, size=group_size, replace=True, p=ctr_probs)\n",
    "    group_B_ctr = rng.choice(ctr_values, size=group_size, replace=True, p=ctr_probs)\n",
    "\n",
    "    # Симуляция лайков как биномиальное распределение на основе просмотров и CTR\n",
    "    group_A_likes = rng.binomial(n=group_A_views, p=group_A_ctr)\n",
    "    group_B_likes = rng.binomial(n=group_B_views_after, p=group_B_ctr)\n",
    "\n",
    "    p_value = stats.ttest_ind(group_A_likes, group_B_likes, equal_var=False).pvalue\n",
    "    p_values_2.append(p_value)"
   ]
  },
  {
   "cell_type": "code",
   "execution_count": 16,
   "metadata": {},
   "outputs": [
    {
     "name": "stdout",
     "output_type": "stream",
     "text": [
      "Мощность теста: 41.7\n"
     ]
    }
   ],
   "source": [
    "# Расчет мощности теста\n",
    "# уровень значимости alpha = 0.05\n",
    "\n",
    "power_2 = round(np.mean(np.array(p_values_2) < 0.05) * 100, 1)\n",
    "print(f\"Мощность теста: {power_2}\")"
   ]
  },
  {
   "cell_type": "markdown",
   "metadata": {},
   "source": [
    "Теперь у нас мощность где-то около 41.7% - то есть мы выиграли где-то 16% дополнительной мощности. Это всё ещё очень мало."
   ]
  },
  {
   "cell_type": "markdown",
   "metadata": {},
   "source": [
    "### 3\n",
    "Теперь нас пришло радовать начальство: нам утвердили длительность эксперимента длиной в 2 недели. Теперь допустим, что в эти две недели к нам придёт столько же пользователей, сколько пришло суммарно за период АА-теста и АБ-теста.\n",
    "Подкорректируем размер группы соответствующим образом."
   ]
  },
  {
   "cell_type": "code",
   "execution_count": 17,
   "metadata": {},
   "outputs": [],
   "source": [
    "# Посмотрим число пользователей за 2 недели (время проведения AA и AB теста)\n",
    "\n",
    "q = \"\"\"\n",
    "SELECT  \n",
    "    count(distinct(user_id)) \n",
    "FROM simulator_20250820.feed_actions\n",
    "WHERE toDate(time) between '2025-07-26' and '2025-08-08'\n",
    "\"\"\"\n",
    "\n",
    "num_users_1 = pandahouse.read_clickhouse(q, connection=connection)"
   ]
  },
  {
   "cell_type": "code",
   "execution_count": 18,
   "metadata": {},
   "outputs": [
    {
     "data": {
      "text/html": [
       "<div>\n",
       "<style scoped>\n",
       "    .dataframe tbody tr th:only-of-type {\n",
       "        vertical-align: middle;\n",
       "    }\n",
       "\n",
       "    .dataframe tbody tr th {\n",
       "        vertical-align: top;\n",
       "    }\n",
       "\n",
       "    .dataframe thead th {\n",
       "        text-align: right;\n",
       "    }\n",
       "</style>\n",
       "<table border=\"1\" class=\"dataframe\">\n",
       "  <thead>\n",
       "    <tr style=\"text-align: right;\">\n",
       "      <th></th>\n",
       "      <th>uniqExact(user_id)</th>\n",
       "    </tr>\n",
       "  </thead>\n",
       "  <tbody>\n",
       "    <tr>\n",
       "      <th>0</th>\n",
       "      <td>30591</td>\n",
       "    </tr>\n",
       "  </tbody>\n",
       "</table>\n",
       "</div>"
      ],
      "text/plain": [
       "   uniqExact(user_id)\n",
       "0               30591"
      ]
     },
     "execution_count": 18,
     "metadata": {},
     "output_type": "execute_result"
    }
   ],
   "source": [
    "num_users_1//2"
   ]
  },
  {
   "cell_type": "code",
   "execution_count": 19,
   "metadata": {},
   "outputs": [
    {
     "name": "stderr",
     "output_type": "stream",
     "text": [
      "100%|██████████| 20000/20000 [07:42<00:00, 43.25it/s]\n"
     ]
    }
   ],
   "source": [
    "# Симуляция Монте-Карло на пользователях с числом просмотров от 30 и выше\n",
    "\n",
    "n_simulations = 20000  # количество симуляций\n",
    "group_size = 30591  # размер выборки\n",
    "\n",
    "p_values_3 = []   # результаты тестов\n",
    "\n",
    "for _ in tqdm(range(n_simulations)):\n",
    "    # Симуляция просмотров\n",
    "    group_A_views = rng.choice(views_values, size=group_size, replace=True, p=views_probs).astype(np.int64)\n",
    "    group_B_views = rng.choice(views_values, size=group_size, replace=True, p=views_probs).astype(np.int64)\n",
    "    group_B_views_after = (\n",
    "        group_B_views\n",
    "        + (rng.binomial(n=1, p=0.9, size=group_size)           # вероятность того, что он сработает, составляет 90%\n",
    "           * (1 + rng.binomial(n=1, p=0.5, size=group_size))   # алгоритм добавляет пользователям 1-2 просмотра\n",
    "           *  (group_B_views >= 30))                           # если у пользователя меньше 30 просмотров, то алгоритм не сработает\n",
    "    )\n",
    "    # Симуляция CTR\n",
    "    group_A_ctr = rng.choice(ctr_values, size=group_size, replace=True, p=ctr_probs)\n",
    "    group_B_ctr = rng.choice(ctr_values, size=group_size, replace=True, p=ctr_probs)\n",
    "\n",
    "    # Симуляция лайков как биномиальное распределение на основе просмотров и CTR\n",
    "    group_A_likes = rng.binomial(n=group_A_views, p=group_A_ctr)\n",
    "    group_B_likes = rng.binomial(n=group_B_views_after, p=group_B_ctr)\n",
    "\n",
    "    p_value = stats.ttest_ind(group_A_likes, group_B_likes, equal_var=False).pvalue\n",
    "    p_values_3.append(p_value)"
   ]
  },
  {
   "cell_type": "code",
   "execution_count": 20,
   "metadata": {},
   "outputs": [
    {
     "name": "stdout",
     "output_type": "stream",
     "text": [
      "Мощность теста: 55.7\n"
     ]
    }
   ],
   "source": [
    "# Расчет мощности теста\n",
    "# уровень значимости alpha = 0.05\n",
    "\n",
    "power_3 = round(np.mean(np.array(p_values_3) < 0.05) * 100, 1)\n",
    "print(f\"Мощность теста: {power_3}\")"
   ]
  },
  {
   "cell_type": "markdown",
   "metadata": {},
   "source": [
    "Мощность где-то около 55.7%. Мы всё ближе к цели, но заветного порога в 80% мы ещё не достигли."
   ]
  },
  {
   "cell_type": "markdown",
   "metadata": {},
   "source": [
    "### 4\n",
    "Всё это время выборки анализировались целиком — и тех пользователей, на которых алгоритм повлиял, и тех, кого он не мог затронуть (меньше 30 просмотров). Попробуем отбирать только нужных пользователей и скармливать t-тесту именно их. Выборка будет меньше, но мы избавимся от мусора — а значит, и чувствительность наверняка будет выше."
   ]
  },
  {
   "cell_type": "code",
   "execution_count": 21,
   "metadata": {},
   "outputs": [
    {
     "name": "stderr",
     "output_type": "stream",
     "text": [
      "100%|██████████| 20000/20000 [07:37<00:00, 43.73it/s]\n"
     ]
    }
   ],
   "source": [
    "# Симуляция Монте-Карло на пользователях с числом просмотров от 30 и выше\n",
    "\n",
    "n_simulations = 20000  # количество симуляций\n",
    "group_size = 30591  # размер выборки\n",
    "\n",
    "p_values_4 = []   # результаты тестов\n",
    "\n",
    "for _ in tqdm(range(n_simulations)):\n",
    "    # Симуляция просмотров\n",
    "    group_A_views = rng.choice(views_values, size=group_size, replace=True, p=views_probs).astype(np.int64)\n",
    "    group_B_views = rng.choice(views_values, size=group_size, replace=True, p=views_probs).astype(np.int64)\n",
    "    group_B_views_after = (\n",
    "        group_B_views\n",
    "        + (rng.binomial(n=1, p=0.9, size=group_size)           # вероятность того, что он сработает, составляет 90%\n",
    "           * (1 + rng.binomial(n=1, p=0.5, size=group_size))   # алгоритм добавляет пользователям 1-2 просмотра\n",
    "           *  (group_B_views >= 30))                           # если у пользователя меньше 30 просмотров, то алгоритм не сработает\n",
    "    )\n",
    "    # Симуляция CTR\n",
    "    group_A_ctr = rng.choice(ctr_values, size=group_size, replace=True, p=ctr_probs)\n",
    "    group_B_ctr = rng.choice(ctr_values, size=group_size, replace=True, p=ctr_probs)\n",
    "\n",
    "    # Симуляция лайков как биномиальное распределение на основе просмотров и CTR\n",
    "    group_A_likes = rng.binomial(n=group_A_views, p=group_A_ctr)\n",
    "    group_B_likes = rng.binomial(n=group_B_views_after, p=group_B_ctr)\n",
    "    \n",
    "    # Убираем пользователей с просмотрами < 30\n",
    "    mask_A = group_A_views >= 30\n",
    "    mask_B = group_B_views >= 30\n",
    "\n",
    "    p_value = stats.ttest_ind(group_A_likes[mask_A], group_B_likes[mask_B], equal_var=False).pvalue\n",
    "    p_values_4.append(p_value)# симулируем данные просмотров, CTR и лайков"
   ]
  },
  {
   "cell_type": "code",
   "execution_count": 22,
   "metadata": {},
   "outputs": [
    {
     "name": "stdout",
     "output_type": "stream",
     "text": [
      "Мощность теста: 64.1\n"
     ]
    }
   ],
   "source": [
    "# Расчет мощности теста\n",
    "# уровень значимости alpha = 0.05\n",
    "\n",
    "power_4 = round(np.mean(np.array(p_values_4) < 0.05) * 100, 1)\n",
    "print(f\"Мощность теста: {power_4}\")"
   ]
  },
  {
   "cell_type": "markdown",
   "metadata": {},
   "source": [
    "Несмотря на все усилия, добраться до уровня мощности в 80% так и не получилось."
   ]
  },
  {
   "cell_type": "markdown",
   "metadata": {},
   "source": [
    "**Вывод:**  \n",
    "Что в таком случае можно предпринять?\n",
    "\n",
    "- Отказаться от идеи эксперимента вообще. Раз у нас не хватает ресурсов для детекции такого изменения, то и смысла особо действовать нет.\n",
    "- Всё равно запустить эксперимент и надеяться на лучшее. Платой за это решение будет меньшая уверенность в полученных результатах.\n",
    "- Дорабатывать алгоритм, чтобы его эффект либо распространялся на большее число пользователей, либо чтобы он был больше.\n",
    "- Поменять уровень значимости на более высокий. Платой за это будет большая вероятность ложноположительного результата.\n",
    "- Поменять статистический тест на другой; может, t-тест просто имеет тут недостаточно мощности. Возможно, также поможет линеаризация или какой-нибудь вариант бакетизации."
   ]
  },
  {
   "cell_type": "code",
   "execution_count": null,
   "metadata": {},
   "outputs": [],
   "source": []
  }
 ],
 "metadata": {
  "kernelspec": {
   "display_name": "Python 3 (ipykernel)",
   "language": "python",
   "name": "python3"
  },
  "language_info": {
   "codemirror_mode": {
    "name": "ipython",
    "version": 3
   },
   "file_extension": ".py",
   "mimetype": "text/x-python",
   "name": "python",
   "nbconvert_exporter": "python",
   "pygments_lexer": "ipython3",
   "version": "3.8.10"
  }
 },
 "nbformat": 4,
 "nbformat_minor": 4
}

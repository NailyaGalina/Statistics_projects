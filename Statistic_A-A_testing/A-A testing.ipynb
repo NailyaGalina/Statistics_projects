{
 "cells": [
  {
   "cell_type": "markdown",
   "id": "beef3f9e-fc44-476b-b2c2-09fd45131b42",
   "metadata": {},
   "source": [
    "### \"Проверка системы сплитования\""
   ]
  },
  {
   "cell_type": "code",
   "execution_count": 1,
   "id": "27cba150-2961-4b6f-b66f-814b4a08f07e",
   "metadata": {},
   "outputs": [],
   "source": [
    "# Импорт  библиотек\n",
    "import pandahouse\n",
    "import seaborn as sns\n",
    "import matplotlib.pyplot as plt\n",
    "import hashlib\n",
    "from scipy.stats import ttest_ind\n",
    "%matplotlib inline"
   ]
  },
  {
   "cell_type": "markdown",
   "id": "b174fa28-277d-4089-9f4c-98fb26504e07",
   "metadata": {},
   "source": [
    "Разбиваем пользователей на группы с помощью хэширования с солью."
   ]
  },
  {
   "cell_type": "code",
   "execution_count": 4,
   "id": "4d50b3c9-16cb-4fe5-8a3f-75001512eb38",
   "metadata": {},
   "outputs": [],
   "source": [
    "# хэширование с солью\n",
    "def ab_split(id, salt='exp_mess_1', n_groups=5):\n",
    "    test_id = str(id) + '-' + str(salt)\n",
    "    test_id_digest = hashlib.md5(test_id.encode('ascii')).hexdigest()\n",
    "    test_id_final_int = int(test_id_digest, 16)\n",
    "    return test_id_final_int % n_groups"
   ]
  },
  {
   "cell_type": "markdown",
   "id": "786b6b4f-8513-4efe-aec0-6e5eb1c9ab3a",
   "metadata": {},
   "source": [
    "Разбиение по соленому хэшу гарантирует, что получившиеся группы будут случайны и приблизительно одинакового размера."
   ]
  },
  {
   "cell_type": "code",
   "execution_count": 5,
   "id": "14e8d8ba-46c5-4c33-a9d3-7a8c6e18cae6",
   "metadata": {},
   "outputs": [
    {
     "data": {
      "application/json": {
       "ascii": false,
       "bar_format": null,
       "colour": null,
       "elapsed": 0.027582883834838867,
       "initial": 0,
       "n": 0,
       "ncols": null,
       "nrows": null,
       "postfix": null,
       "prefix": "Pandas Apply",
       "rate": null,
       "total": 41997,
       "unit": "it",
       "unit_divisor": 1000,
       "unit_scale": false
      },
      "application/vnd.jupyter.widget-view+json": {
       "model_id": "0e78f24b4a5f42879c6c16e820f09332",
       "version_major": 2,
       "version_minor": 0
      },
      "text/plain": [
       "Pandas Apply:   0%|          | 0/41997 [00:00<?, ?it/s]"
      ]
     },
     "metadata": {},
     "output_type": "display_data"
    },
    {
     "data": {
      "text/html": [
       "<div>\n",
       "<style scoped>\n",
       "    .dataframe tbody tr th:only-of-type {\n",
       "        vertical-align: middle;\n",
       "    }\n",
       "\n",
       "    .dataframe tbody tr th {\n",
       "        vertical-align: top;\n",
       "    }\n",
       "\n",
       "    .dataframe thead th {\n",
       "        text-align: right;\n",
       "    }\n",
       "</style>\n",
       "<table border=\"1\" class=\"dataframe\">\n",
       "  <thead>\n",
       "    <tr style=\"text-align: right;\">\n",
       "      <th></th>\n",
       "      <th>hash_group</th>\n",
       "      <th>user_id</th>\n",
       "    </tr>\n",
       "  </thead>\n",
       "  <tbody>\n",
       "    <tr>\n",
       "      <th>0</th>\n",
       "      <td>0</td>\n",
       "      <td>8588</td>\n",
       "    </tr>\n",
       "    <tr>\n",
       "      <th>1</th>\n",
       "      <td>1</td>\n",
       "      <td>8254</td>\n",
       "    </tr>\n",
       "    <tr>\n",
       "      <th>2</th>\n",
       "      <td>2</td>\n",
       "      <td>8397</td>\n",
       "    </tr>\n",
       "    <tr>\n",
       "      <th>3</th>\n",
       "      <td>3</td>\n",
       "      <td>8305</td>\n",
       "    </tr>\n",
       "    <tr>\n",
       "      <th>4</th>\n",
       "      <td>4</td>\n",
       "      <td>8453</td>\n",
       "    </tr>\n",
       "  </tbody>\n",
       "</table>\n",
       "</div>"
      ],
      "text/plain": [
       "   hash_group  user_id\n",
       "0           0     8588\n",
       "1           1     8254\n",
       "2           2     8397\n",
       "3           3     8305\n",
       "4           4     8453"
      ]
     },
     "execution_count": 5,
     "metadata": {},
     "output_type": "execute_result"
    }
   ],
   "source": [
    "# разбиение их по соленому хэшу\n",
    "connection = {\n",
    "    'host': 'https://clickhouse.lab.karpov.courses',\n",
    "    'password': '*****',\n",
    "    'user': 'student',\n",
    "    'database': 'simulator_20250820'\n",
    "}\n",
    "\n",
    "q = \"\"\"\n",
    "SELECT distinct user_id\n",
    "FROM {db}.feed_actions \n",
    "WHERE toDate(time) >= '2025-07-26' and toDate(time) <= '2025-08-01' \n",
    "\"\"\"\n",
    "\n",
    "# Вытащим пользователей\n",
    "users_df = pandahouse.read_clickhouse(q, connection=connection)\n",
    "\n",
    "# Сделаем группы\n",
    "users_df['hash_group'] = users_df.user_id.swifter.apply(ab_split)\n",
    "\n",
    "# Смотрим на число пользователей в каждой группе\n",
    "users_df.groupby('hash_group').user_id.nunique().reset_index()"
   ]
  },
  {
   "cell_type": "markdown",
   "id": "b93193fa-d66b-4573-aec5-bba1cf1d7817",
   "metadata": {},
   "source": [
    "Хэшировать можно и прямо в кликхаусе:"
   ]
  },
  {
   "cell_type": "code",
   "execution_count": 6,
   "id": "40f2339e-d681-4d81-965e-531244564179",
   "metadata": {},
   "outputs": [
    {
     "data": {
      "text/html": [
       "<div>\n",
       "<style scoped>\n",
       "    .dataframe tbody tr th:only-of-type {\n",
       "        vertical-align: middle;\n",
       "    }\n",
       "\n",
       "    .dataframe tbody tr th {\n",
       "        vertical-align: top;\n",
       "    }\n",
       "\n",
       "    .dataframe thead th {\n",
       "        text-align: right;\n",
       "    }\n",
       "</style>\n",
       "<table border=\"1\" class=\"dataframe\">\n",
       "  <thead>\n",
       "    <tr style=\"text-align: right;\">\n",
       "      <th></th>\n",
       "      <th>group</th>\n",
       "      <th>uniqExact(user_id)</th>\n",
       "    </tr>\n",
       "  </thead>\n",
       "  <tbody>\n",
       "    <tr>\n",
       "      <th>0</th>\n",
       "      <td>0</td>\n",
       "      <td>8452</td>\n",
       "    </tr>\n",
       "    <tr>\n",
       "      <th>1</th>\n",
       "      <td>1</td>\n",
       "      <td>8326</td>\n",
       "    </tr>\n",
       "    <tr>\n",
       "      <th>2</th>\n",
       "      <td>2</td>\n",
       "      <td>8395</td>\n",
       "    </tr>\n",
       "    <tr>\n",
       "      <th>3</th>\n",
       "      <td>3</td>\n",
       "      <td>8492</td>\n",
       "    </tr>\n",
       "    <tr>\n",
       "      <th>4</th>\n",
       "      <td>4</td>\n",
       "      <td>8332</td>\n",
       "    </tr>\n",
       "  </tbody>\n",
       "</table>\n",
       "</div>"
      ],
      "text/plain": [
       "   group  uniqExact(user_id)\n",
       "0      0                8452\n",
       "1      1                8326\n",
       "2      2                8395\n",
       "3      3                8492\n",
       "4      4                8332"
      ]
     },
     "execution_count": 6,
     "metadata": {},
     "output_type": "execute_result"
    }
   ],
   "source": [
    "q = \"\"\"\n",
    "SELECT xxHash64(toString(user_id)||'my_salt')%5 as group, \n",
    "    uniqExact(user_id)\n",
    "FROM {db}.feed_actions \n",
    "WHERE toDate(time) >= '2025-07-26' and toDate(time) <= '2025-08-01' \n",
    "group by group \n",
    "\"\"\"\n",
    "\n",
    "pandahouse.read_clickhouse(q, connection=connection)"
   ]
  },
  {
   "cell_type": "markdown",
   "id": "430d11d6-85fd-4bcc-8ed7-b5086817efd6",
   "metadata": {},
   "source": [
    "Проверка корректности работы системы сплитования"
   ]
  },
  {
   "cell_type": "code",
   "execution_count": 8,
   "id": "7cac9013-82b4-449e-bd70-1942ae794981",
   "metadata": {},
   "outputs": [
    {
     "data": {
      "text/html": [
       "<div>\n",
       "<style scoped>\n",
       "    .dataframe tbody tr th:only-of-type {\n",
       "        vertical-align: middle;\n",
       "    }\n",
       "\n",
       "    .dataframe tbody tr th {\n",
       "        vertical-align: top;\n",
       "    }\n",
       "\n",
       "    .dataframe thead th {\n",
       "        text-align: right;\n",
       "    }\n",
       "</style>\n",
       "<table border=\"1\" class=\"dataframe\">\n",
       "  <thead>\n",
       "    <tr style=\"text-align: right;\">\n",
       "      <th></th>\n",
       "      <th>user_id</th>\n",
       "      <th>likes</th>\n",
       "      <th>views</th>\n",
       "      <th>ctr</th>\n",
       "    </tr>\n",
       "    <tr>\n",
       "      <th>exp_group</th>\n",
       "      <th></th>\n",
       "      <th></th>\n",
       "      <th></th>\n",
       "      <th></th>\n",
       "    </tr>\n",
       "  </thead>\n",
       "  <tbody>\n",
       "    <tr>\n",
       "      <th>2</th>\n",
       "      <td>8362</td>\n",
       "      <td>8362</td>\n",
       "      <td>8362</td>\n",
       "      <td>8362</td>\n",
       "    </tr>\n",
       "    <tr>\n",
       "      <th>3</th>\n",
       "      <td>8425</td>\n",
       "      <td>8425</td>\n",
       "      <td>8425</td>\n",
       "      <td>8425</td>\n",
       "    </tr>\n",
       "  </tbody>\n",
       "</table>\n",
       "</div>"
      ],
      "text/plain": [
       "           user_id  likes  views   ctr\n",
       "exp_group                             \n",
       "2             8362   8362   8362  8362\n",
       "3             8425   8425   8425  8425"
      ]
     },
     "execution_count": 8,
     "metadata": {},
     "output_type": "execute_result"
    }
   ],
   "source": [
    "q = \"\"\"\n",
    "SELECT exp_group, \n",
    "    user_id,\n",
    "    sum(action = 'like') as likes,\n",
    "    sum(action = 'view') as views,\n",
    "    likes/views as ctr\n",
    "FROM {db}.feed_actions \n",
    "WHERE toDate(time) between '2025-07-26' and '2025-08-01'\n",
    "    and exp_group in (2,3)\n",
    "GROUP BY exp_group, user_id\n",
    "\"\"\"\n",
    "\n",
    "df = pandahouse.read_clickhouse(q, connection=connection)\n",
    "\n",
    "df.groupby('exp_group').count()"
   ]
  },
  {
   "cell_type": "code",
   "execution_count": 9,
   "id": "bf0e02cb-03be-433b-be98-b03a9457e0c8",
   "metadata": {},
   "outputs": [
    {
     "data": {
      "image/png": "[encoded data removed]",
      "text/plain": [
       "<Figure size 842.4x595.44 with 1 Axes>"
      ]
     },
     "metadata": {},
     "output_type": "display_data"
    }
   ],
   "source": [
    "# Сделаем графики в seaborn покрупнее\n",
    "sns.set(rc={'figure.figsize':(11.7,8.27)})\n",
    "\n",
    "groups = sns.histplot(data = df, \n",
    "              x='ctr', \n",
    "              hue='exp_group', \n",
    "              palette = ['r', 'b'],\n",
    "              alpha=0.5,\n",
    "              kde=False)"
   ]
  },
  {
   "cell_type": "markdown",
   "id": "9a46363e-5f7b-488e-8d9e-d7044b88de5c",
   "metadata": {},
   "source": [
    "Визуально распределения группы 2 и 3 почти одинаковы."
   ]
  },
  {
   "cell_type": "markdown",
   "id": "d8e50457-db78-4643-861b-9c9e013caa4b",
   "metadata": {},
   "source": [
    "Удостоверимся что группы, на которые мы разбили пользователей, не отличаются друг от друга, с помощью А/А-теста."
   ]
  },
  {
   "cell_type": "code",
   "execution_count": 10,
   "id": "d873e386-255c-4f8b-afa7-e52e3b6b0eb6",
   "metadata": {},
   "outputs": [],
   "source": [
    "# из групп 2 и 3 берём подвыборки без возвращения размером в 500 юзеров и проведем t-test Стьюдента\n",
    "\n",
    "p_values = []\n",
    "\n",
    "for _ in range(10000):\n",
    "    sample_2 = df[df.exp_group == 2].sample(500, replace=False)\n",
    "    sample_3 = df[df.exp_group == 3].sample(500, replace=False)\n",
    "    \n",
    "    # Выполнение t-теста\n",
    "    t_stat, p_value = ttest_ind(sample_2['ctr'], sample_3['ctr'], equal_var=False)\n",
    "    \n",
    "    # Сохранение p-value\n",
    "    p_values.append(p_value)"
   ]
  },
  {
   "cell_type": "code",
   "execution_count": 11,
   "id": "d4726485-f6c9-4144-8ed6-538898ba2eec",
   "metadata": {},
   "outputs": [
    {
     "data": {
      "image/png": "[encoded data removed]",
      "text/plain": [
       "<Figure size 720x432 with 1 Axes>"
      ]
     },
     "metadata": {},
     "output_type": "display_data"
    }
   ],
   "source": [
    "# Построим гистограмму\n",
    "plt.figure(figsize=(10, 6))\n",
    "plt.hist(p_values, bins=50, color='blue', alpha=0.7)\n",
    "plt.axvline(0.05, color='red', linestyle='dashed', linewidth=1, label='Alpha = 0.05')\n",
    "plt.title('Гистограмма p-value')\n",
    "plt.xlabel('p-value')\n",
    "plt.ylabel('Частота')\n",
    "plt.legend()\n",
    "plt.grid()\n",
    "plt.show()"
   ]
  },
  {
   "cell_type": "code",
   "execution_count": 12,
   "id": "4bbcc85a-1676-4e50-9ac3-7939f55e2bac",
   "metadata": {},
   "outputs": [
    {
     "name": "stdout",
     "output_type": "stream",
     "text": [
      "Доля p-value ниже 0.05:  0.044\n"
     ]
    }
   ],
   "source": [
    "# подсчет доли p-value ниже 0.05\n",
    "significant_count = sum(p < 0.05 for p in p_values)\n",
    "total_count = len(p_values)\n",
    "proportion_significant = significant_count / total_count\n",
    "\n",
    "print(f'Доля p-value ниже 0.05: {proportion_significant: .3f}')"
   ]
  },
  {
   "cell_type": "markdown",
   "id": "58f8db1e-55f1-4ba1-95a8-d181dcd0bb00",
   "metadata": {},
   "source": [
    "**Вывод:**  \n",
    "распределение получившихся p-value является примерно равномерным, доля p-value ниже порога значимости составляет 0.044. Это примерно столько, сколько мы ожидаем. Значит, система сплитования работает корректно."
   ]
  }
 ],
 "metadata": {
  "kernelspec": {
   "display_name": "Python 3 (ipykernel)",
   "language": "python",
   "name": "python3"
  },
  "language_info": {
   "codemirror_mode": {
    "name": "ipython",
    "version": 3
   },
   "file_extension": ".py",
   "mimetype": "text/x-python",
   "name": "python",
   "nbconvert_exporter": "python",
   "pygments_lexer": "ipython3",
   "version": "3.8.10"
  }
 },
 "nbformat": 4,
 "nbformat_minor": 5
}

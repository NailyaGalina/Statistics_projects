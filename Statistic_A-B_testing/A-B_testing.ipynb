{
 "cells": [
  {
   "cell_type": "markdown",
   "metadata": {},
   "source": [
    "# Проведение А/В теста\n",
    "\n",
    "Сравним две группы, применяя для этого t-критерий."
   ]
  },
  {
   "cell_type": "code",
   "execution_count": 1,
   "metadata": {},
   "outputs": [
    {
     "name": "stderr",
     "output_type": "stream",
     "text": [
      "/opt/tljh/user/lib/python3.7/site-packages/outdated/utils.py:18: OutdatedCacheFailedWarning: Failed to use cache while checking for outdated package.\n",
      "Set the environment variable OUTDATED_RAISE_EXCEPTION=1 for a full traceback.\n",
      "Set the environment variable OUTDATED_IGNORE=1 to disable these warnings.\n",
      "  **kwargs\n",
      "/opt/tljh/user/lib/python3.7/site-packages/outdated/utils.py:18: OutdatedPackageWarning: The package outdated is out of date. Your version is 0.2.1, the latest is 0.2.2.\n",
      "Set the environment variable OUTDATED_IGNORE=1 to disable these warnings.\n",
      "  **kwargs\n",
      "/opt/tljh/user/lib/python3.7/site-packages/outdated/utils.py:18: OutdatedPackageWarning: The package pingouin is out of date. Your version is 0.4.0, the latest is 0.5.5.\n",
      "Set the environment variable OUTDATED_IGNORE=1 to disable these warnings.\n",
      "  **kwargs\n"
     ]
    }
   ],
   "source": [
    "# импорт библиотек\n",
    "\n",
    "import pandas as pd\n",
    "import scipy.stats as st\n",
    "import pingouin as pg\n",
    "import seaborn as sns\n",
    "\n",
    "sns.set(rc={'figure.figsize': (12, 6)}, style=\"whitegrid\")"
   ]
  },
  {
   "cell_type": "markdown",
   "metadata": {},
   "source": [
    "### Задача:\n",
    "В очень крупной компании по доставке пиццы есть приложение для курьеров. Также есть несколько ресторанов в разных частях города и целый штат курьеров. Но есть одна проблема — к вечеру скорость доставки падает из-за того, что курьеры уходят домой после рабочего дня, а количество заказов лишь растет. Это приводит к тому, что в момент пересмены наша доставка очень сильно проседает в эффективности. \n",
    "\n",
    "В компании придумали новый алгоритм, который позволяет курьерам запланировать свои последние заказы перед окончанием рабочего дня так, чтобы их маршрут доставки совпадал с маршрутом до дома. То есть, чтобы курьеры доставляли последние свои заказы за день как бы \"по пути\" домой. \n",
    "\n",
    "Необходимо провести A/B тест на две равные группы курьеров. Часть курьеров использует старый алгоритм без опции \"по пути\", другие видят в своем приложении эту опцию и могут ее выбрать. \n",
    "Нужно проанализировать данные эксперимента и помочь бизнесу принять решение о раскатке новой фичи на всех курьеров.\n",
    "\n",
    "### Описание данных\n",
    "- order_id - id заказа\n",
    "- delivery_time - время доставки в минутах\n",
    "- district - район доставки\n",
    "- experiment_group - экспериментальная группа"
   ]
  },
  {
   "cell_type": "code",
   "execution_count": 2,
   "metadata": {},
   "outputs": [],
   "source": [
    "import urllib.parse\n",
    "import requests\n",
    "\n",
    "# Загрузка данных\n",
    "base_url = 'https://cloud-api.yandex.net/v1/disk/public/resources/download?' \n",
    "public_key = 'https://disk.yandex.ru/d/uf85TA03-lW-Aw'\n",
    " \n",
    "# Получаем загрузочную ссылку\n",
    "final_url = base_url + urllib.parse.urlencode(dict(public_key=public_key)) \n",
    "response = requests.get(final_url) \n",
    "download_url = response.json()['href']\n",
    "\n",
    "# загружаем в датафрейм\n",
    "ab_test = pd.read_csv(download_url)"
   ]
  },
  {
   "cell_type": "code",
   "execution_count": 3,
   "metadata": {},
   "outputs": [
    {
     "data": {
      "text/html": [
       "<div>\n",
       "<style scoped>\n",
       "    .dataframe tbody tr th:only-of-type {\n",
       "        vertical-align: middle;\n",
       "    }\n",
       "\n",
       "    .dataframe tbody tr th {\n",
       "        vertical-align: top;\n",
       "    }\n",
       "\n",
       "    .dataframe thead th {\n",
       "        text-align: right;\n",
       "    }\n",
       "</style>\n",
       "<table border=\"1\" class=\"dataframe\">\n",
       "  <thead>\n",
       "    <tr style=\"text-align: right;\">\n",
       "      <th></th>\n",
       "      <th>order_id</th>\n",
       "      <th>delivery_time</th>\n",
       "      <th>district</th>\n",
       "      <th>experiment_group</th>\n",
       "    </tr>\n",
       "  </thead>\n",
       "  <tbody>\n",
       "    <tr>\n",
       "      <th>0</th>\n",
       "      <td>3159</td>\n",
       "      <td>44.0</td>\n",
       "      <td>Purlieus</td>\n",
       "      <td>control</td>\n",
       "    </tr>\n",
       "    <tr>\n",
       "      <th>1</th>\n",
       "      <td>10426</td>\n",
       "      <td>51.0</td>\n",
       "      <td>Purlieus</td>\n",
       "      <td>control</td>\n",
       "    </tr>\n",
       "    <tr>\n",
       "      <th>2</th>\n",
       "      <td>9155</td>\n",
       "      <td>46.0</td>\n",
       "      <td>Purlieus</td>\n",
       "      <td>control</td>\n",
       "    </tr>\n",
       "    <tr>\n",
       "      <th>3</th>\n",
       "      <td>10699</td>\n",
       "      <td>34.0</td>\n",
       "      <td>Purlieus</td>\n",
       "      <td>control</td>\n",
       "    </tr>\n",
       "    <tr>\n",
       "      <th>4</th>\n",
       "      <td>10061</td>\n",
       "      <td>43.0</td>\n",
       "      <td>Purlieus</td>\n",
       "      <td>control</td>\n",
       "    </tr>\n",
       "  </tbody>\n",
       "</table>\n",
       "</div>"
      ],
      "text/plain": [
       "   order_id  delivery_time  district experiment_group\n",
       "0      3159           44.0  Purlieus          control\n",
       "1     10426           51.0  Purlieus          control\n",
       "2      9155           46.0  Purlieus          control\n",
       "3     10699           34.0  Purlieus          control\n",
       "4     10061           43.0  Purlieus          control"
      ]
     },
     "execution_count": 3,
     "metadata": {},
     "output_type": "execute_result"
    }
   ],
   "source": [
    "ab_test.head()"
   ]
  },
  {
   "cell_type": "markdown",
   "metadata": {},
   "source": [
    "# 1\n",
    "\n",
    "Сопоставим графики распределения контрольной и  тестовой группы:"
   ]
  },
  {
   "cell_type": "code",
   "execution_count": 4,
   "metadata": {},
   "outputs": [
    {
     "data": {
      "text/plain": [
       "district\n",
       "Central     AxesSubplot(0.125,0.125;0.775x0.755)\n",
       "Purlieus    AxesSubplot(0.125,0.125;0.775x0.755)\n",
       "Suburb      AxesSubplot(0.125,0.125;0.775x0.755)\n",
       "Name: delivery_time, dtype: object"
      ]
     },
     "execution_count": 4,
     "metadata": {},
     "output_type": "execute_result"
    },
    {
     "data": {
      "image/png": "[encoded data removed]",
      "text/plain": [
       "<Figure size 864x432 with 1 Axes>"
      ]
     },
     "metadata": {},
     "output_type": "display_data"
    }
   ],
   "source": [
    "# построим график распределения контрольной группы\n",
    "ab_test.query(\"experiment_group == 'control'\").groupby(\"district\") \\\n",
    "       .delivery_time.hist()"
   ]
  },
  {
   "cell_type": "code",
   "execution_count": 5,
   "metadata": {},
   "outputs": [
    {
     "data": {
      "text/plain": [
       "district\n",
       "Central     AxesSubplot(0.125,0.125;0.775x0.755)\n",
       "Purlieus    AxesSubplot(0.125,0.125;0.775x0.755)\n",
       "Suburb      AxesSubplot(0.125,0.125;0.775x0.755)\n",
       "Name: delivery_time, dtype: object"
      ]
     },
     "execution_count": 5,
     "metadata": {},
     "output_type": "execute_result"
    },
    {
     "data": {
      "image/png": "[encoded data removed]",
      "text/plain": [
       "<Figure size 864x432 with 1 Axes>"
      ]
     },
     "metadata": {},
     "output_type": "display_data"
    }
   ],
   "source": [
    "# построим график распределения тестовой группы\n",
    "ab_test.query(\"experiment_group == 'test'\").groupby(\"district\") \\\n",
    "       .delivery_time.hist()"
   ]
  },
  {
   "cell_type": "markdown",
   "metadata": {},
   "source": [
    "# 2\n",
    "\n",
    "Посчитаем количество наблюдений в контрольной и тестовой группе."
   ]
  },
  {
   "cell_type": "code",
   "execution_count": 6,
   "metadata": {},
   "outputs": [
    {
     "data": {
      "text/plain": [
       "experiment_group\n",
       "control    10092\n",
       "test       10104\n",
       "dtype: int64"
      ]
     },
     "execution_count": 6,
     "metadata": {},
     "output_type": "execute_result"
    }
   ],
   "source": [
    "# посчитаем количество наблюдений в контрольной и тестовой группе\n",
    "ab_test.groupby(\"experiment_group\").size()"
   ]
  },
  {
   "cell_type": "code",
   "execution_count": 7,
   "metadata": {},
   "outputs": [
    {
     "data": {
      "text/plain": [
       "12"
      ]
     },
     "execution_count": 7,
     "metadata": {},
     "output_type": "execute_result"
    }
   ],
   "source": [
    "# найдем разницу в количестве наблюдений\n",
    "10104 - 10092"
   ]
  },
  {
   "cell_type": "markdown",
   "metadata": {},
   "source": [
    "# 3\n",
    "\n",
    "Изучим распределения. Проверим выполнение условий на нормальность и посчитаем стандартное отклонение в контрольной и тестовой группах. Вообще для выборок таких колоссальных размеров это можно не делать - в отсутствие слишком уж выраженной асимметрии и выбросов в данных t-тест и так работать будет нормально."
   ]
  },
  {
   "cell_type": "code",
   "execution_count": 8,
   "metadata": {},
   "outputs": [
    {
     "data": {
      "text/plain": [
       "experiment_group\n",
       "control    9.990017\n",
       "test       9.883308\n",
       "Name: delivery_time, dtype: float64"
      ]
     },
     "execution_count": 8,
     "metadata": {},
     "output_type": "execute_result"
    }
   ],
   "source": [
    "# посчитаем стандартное отклонение в контрольной и тестовой группах\n",
    "ab_test.groupby(\"experiment_group\").delivery_time.std()"
   ]
  },
  {
   "cell_type": "markdown",
   "metadata": {},
   "source": [
    "Обычно нормальность тестируют с помощью теста Шапиро-Уилка (scipy.stats.shapiro()), однако на больших выборках этот тест слишком рьяно находит отклонения от нормальности! Поэтому применим тест Агостино-Пирсона."
   ]
  },
  {
   "cell_type": "code",
   "execution_count": 9,
   "metadata": {},
   "outputs": [
    {
     "data": {
      "text/html": [
       "<div>\n",
       "<style scoped>\n",
       "    .dataframe tbody tr th:only-of-type {\n",
       "        vertical-align: middle;\n",
       "    }\n",
       "\n",
       "    .dataframe tbody tr th {\n",
       "        vertical-align: top;\n",
       "    }\n",
       "\n",
       "    .dataframe thead th {\n",
       "        text-align: right;\n",
       "    }\n",
       "</style>\n",
       "<table border=\"1\" class=\"dataframe\">\n",
       "  <thead>\n",
       "    <tr style=\"text-align: right;\">\n",
       "      <th></th>\n",
       "      <th>W</th>\n",
       "      <th>pval</th>\n",
       "      <th>normal</th>\n",
       "    </tr>\n",
       "  </thead>\n",
       "  <tbody>\n",
       "    <tr>\n",
       "      <th>control</th>\n",
       "      <td>0.253498</td>\n",
       "      <td>0.880955</td>\n",
       "      <td>True</td>\n",
       "    </tr>\n",
       "    <tr>\n",
       "      <th>test</th>\n",
       "      <td>7.024157</td>\n",
       "      <td>0.029835</td>\n",
       "      <td>False</td>\n",
       "    </tr>\n",
       "  </tbody>\n",
       "</table>\n",
       "</div>"
      ],
      "text/plain": [
       "                W      pval  normal\n",
       "control  0.253498  0.880955    True\n",
       "test     7.024157  0.029835   False"
      ]
     },
     "execution_count": 9,
     "metadata": {},
     "output_type": "execute_result"
    }
   ],
   "source": [
    "# применим тест Агостино-Пирсона для проверки на нормальность\n",
    "pg.normality(\n",
    "    data=ab_test,\n",
    "    dv=\"delivery_time\",\n",
    "    group=\"experiment_group\",\n",
    "    method=\"normaltest\"\n",
    ")"
   ]
  },
  {
   "cell_type": "markdown",
   "metadata": {},
   "source": [
    "Тест показывает, что значения в тестовой группе распределены ненормально, а в контрольной группе распределение является \n",
    "нормальным."
   ]
  },
  {
   "cell_type": "code",
   "execution_count": 10,
   "metadata": {},
   "outputs": [
    {
     "data": {
      "text/plain": [
       "<matplotlib.axes._subplots.AxesSubplot at 0x7fb3cf669b70>"
      ]
     },
     "execution_count": 10,
     "metadata": {},
     "output_type": "execute_result"
    },
    {
     "data": {
      "image/png": "[encoded data removed]",
      "text/plain": [
       "<Figure size 360x288 with 1 Axes>"
      ]
     },
     "metadata": {},
     "output_type": "display_data"
    }
   ],
   "source": [
    "# построим график qq-плот для визуализации\n",
    "# контрольная группа\n",
    "pg.qqplot(ab_test.query(\"experiment_group == 'control'\").delivery_time)"
   ]
  },
  {
   "cell_type": "code",
   "execution_count": 11,
   "metadata": {},
   "outputs": [
    {
     "data": {
      "text/plain": [
       "<matplotlib.axes._subplots.AxesSubplot at 0x7fb3cf5c2cf8>"
      ]
     },
     "execution_count": 11,
     "metadata": {},
     "output_type": "execute_result"
    },
    {
     "data": {
      "image/png": "[encoded data removed]",
      "text/plain": [
       "<Figure size 360x288 with 1 Axes>"
      ]
     },
     "metadata": {},
     "output_type": "display_data"
    }
   ],
   "source": [
    "# тестовая группа\n",
    "pg.qqplot(ab_test.query(\"experiment_group == 'test'\").delivery_time)"
   ]
  },
  {
   "cell_type": "markdown",
   "metadata": {},
   "source": [
    "Судя по графикам, можно сказать, что распределения в контрольной и тестовой группах очень близко к нормальному, но не является идеально нормальным.\n",
    "Большинство синих точек расположены очень близко к красной пунктирной линии. Значение R^2=0.999 подтверждает, что данные тесно соответствуют теоретическому нормальному распределению.\n",
    "Но есть отклонения на \"хвостах\" распределения, это означает, что в данных есть некоторые экстремальные значения, которые немного отличаются от того, что ожидается в идеальном нормальном распределении.  \n",
    "**Вывод:**  \n",
    "Для большинства практических целей и статистических тестов, которые требуют нормальности, это распределение можно считать достаточно нормальным."
   ]
  },
  {
   "cell_type": "markdown",
   "metadata": {},
   "source": [
    "# 4\n",
    "\n",
    "Проведем t-test с поправкой Уэлча, так как стандартные отклонения в контрольной и тестовой группах различаются."
   ]
  },
  {
   "cell_type": "markdown",
   "metadata": {},
   "source": [
    "Сформулируем гипотезы для проверки:  \n",
    "- Нулевая гипотеза (H0): Разницы между средним временем доставки в тестовой и контрольной группе нет.  \n",
    "- Альтернативная гипотеза (H1): Разница между средним временем доставки в тестовой и контрольной группе есть."
   ]
  },
  {
   "cell_type": "code",
   "execution_count": 12,
   "metadata": {},
   "outputs": [
    {
     "data": {
      "text/plain": [
       "Ttest_indResult(statistic=-43.03582663183714, pvalue=0.0)"
      ]
     },
     "execution_count": 12,
     "metadata": {},
     "output_type": "execute_result"
    }
   ],
   "source": [
    "st.ttest_ind(a=ab_test.query(\"experiment_group == 'test'\").delivery_time,\n",
    "             b=ab_test.query(\"experiment_group == 'control'\").delivery_time, \\\n",
    "             equal_var=True)"
   ]
  },
  {
   "cell_type": "markdown",
   "metadata": {},
   "source": [
    "P-значение < 0.05 (уровень значимости 0,05): Отклоняем нулевую гипотезу. Разница между средним временем доставки в тестовой и контрольной группе является статистически значимой."
   ]
  },
  {
   "cell_type": "markdown",
   "metadata": {},
   "source": [
    "# 5\n",
    "\n",
    "Посчитаем на сколько процентов изменилось среднее время доставки в тестовой группе по сравнению с контрольной."
   ]
  },
  {
   "cell_type": "code",
   "execution_count": 13,
   "metadata": {},
   "outputs": [],
   "source": [
    "# найдем среднее время\n",
    "mean_test = ab_test.query(\"experiment_group == 'test'\") \\\n",
    "                   .delivery_time.mean()\n",
    "\n",
    "mean_control = ab_test.query(\"experiment_group == 'control'\") \\\n",
    "                      .delivery_time.mean()"
   ]
  },
  {
   "cell_type": "code",
   "execution_count": 14,
   "metadata": {},
   "outputs": [
    {
     "name": "stdout",
     "output_type": "stream",
     "text": [
      "Среднее время в тестовой группе меньше, чем в контрольной на:  13.35%\n"
     ]
    }
   ],
   "source": [
    "mean_diff = ((mean_test - mean_control) / mean_control) * 100\n",
    "print(f'Среднее время в тестовой группе меньше, чем в контрольной на: {abs(mean_diff): .2f}%')"
   ]
  },
  {
   "cell_type": "markdown",
   "metadata": {},
   "source": [
    "# Итоги:\n",
    "\n",
    "Раскатываем новый алгоритм на всех, так как среднее время доставки статистически значимо изменилось. Среднее время доставки в тестовой группе меньше, чем в контрольной на 13%."
   ]
  },
  {
   "cell_type": "code",
   "execution_count": null,
   "metadata": {},
   "outputs": [],
   "source": []
  }
 ],
 "metadata": {
  "kernelspec": {
   "display_name": "Python 3",
   "language": "python",
   "name": "python3"
  },
  "language_info": {
   "codemirror_mode": {
    "name": "ipython",
    "version": 3
   },
   "file_extension": ".py",
   "mimetype": "text/x-python",
   "name": "python",
   "nbconvert_exporter": "python",
   "pygments_lexer": "ipython3",
   "version": "3.7.3"
  }
 },
 "nbformat": 4,
 "nbformat_minor": 4
}
